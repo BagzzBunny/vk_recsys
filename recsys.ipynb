{
 "cells": [
  {
   "cell_type": "code",
   "execution_count": 84,
   "metadata": {},
   "outputs": [],
   "source": [
    "import pandas as pd\n",
    "import numpy as np\n",
    "from tqdm.notebook import tqdm\n",
    "\n",
    "import torch\n",
    "import torch.nn as nn\n",
    "from torch.utils.data import Dataset, DataLoader\n",
    "import pytorch_lightning as pl\n",
    "import seaborn as sns"
   ]
  },
  {
   "cell_type": "code",
   "execution_count": 85,
   "metadata": {},
   "outputs": [],
   "source": [
    "#Загрузка данных\n",
    "ratings = pd.read_csv('data/ratings.csv', parse_dates=['timestamp'])"
   ]
  },
  {
   "cell_type": "code",
   "execution_count": 86,
   "metadata": {},
   "outputs": [],
   "source": [
    "#Ввиду слабого железа я не могу работать с полным датасетом, поэтому оставляю оценки только 20% пользователей\n",
    "rand_userIds = np.random.choice(ratings['userId'].unique(), \n",
    "                                size=int(len(ratings['userId'].unique())*0.2), \n",
    "                                replace=False)\n",
    "\n",
    "ratings = ratings.loc[ratings['userId'].isin(rand_userIds)]"
   ]
  },
  {
   "cell_type": "code",
   "execution_count": 87,
   "metadata": {},
   "outputs": [
    {
     "data": {
      "text/html": [
       "<div>\n",
       "<style scoped>\n",
       "    .dataframe tbody tr th:only-of-type {\n",
       "        vertical-align: middle;\n",
       "    }\n",
       "\n",
       "    .dataframe tbody tr th {\n",
       "        vertical-align: top;\n",
       "    }\n",
       "\n",
       "    .dataframe thead th {\n",
       "        text-align: right;\n",
       "    }\n",
       "</style>\n",
       "<table border=\"1\" class=\"dataframe\">\n",
       "  <thead>\n",
       "    <tr style=\"text-align: right;\">\n",
       "      <th></th>\n",
       "      <th>userId</th>\n",
       "      <th>movieId</th>\n",
       "      <th>rating</th>\n",
       "      <th>timestamp</th>\n",
       "    </tr>\n",
       "  </thead>\n",
       "  <tbody>\n",
       "    <tr>\n",
       "      <th>15122851</th>\n",
       "      <td>154554</td>\n",
       "      <td>74458</td>\n",
       "      <td>5.0</td>\n",
       "      <td>1466624196</td>\n",
       "    </tr>\n",
       "    <tr>\n",
       "      <th>5908850</th>\n",
       "      <td>60802</td>\n",
       "      <td>447</td>\n",
       "      <td>3.0</td>\n",
       "      <td>850302201</td>\n",
       "    </tr>\n",
       "    <tr>\n",
       "      <th>20353590</th>\n",
       "      <td>207590</td>\n",
       "      <td>7160</td>\n",
       "      <td>3.5</td>\n",
       "      <td>1108485486</td>\n",
       "    </tr>\n",
       "    <tr>\n",
       "      <th>14535757</th>\n",
       "      <td>148819</td>\n",
       "      <td>3699</td>\n",
       "      <td>3.0</td>\n",
       "      <td>1297515053</td>\n",
       "    </tr>\n",
       "    <tr>\n",
       "      <th>17562890</th>\n",
       "      <td>179488</td>\n",
       "      <td>2243</td>\n",
       "      <td>5.0</td>\n",
       "      <td>938808639</td>\n",
       "    </tr>\n",
       "  </tbody>\n",
       "</table>\n",
       "</div>"
      ],
      "text/plain": [
       "          userId  movieId  rating   timestamp\n",
       "15122851  154554    74458     5.0  1466624196\n",
       "5908850    60802      447     3.0   850302201\n",
       "20353590  207590     7160     3.5  1108485486\n",
       "14535757  148819     3699     3.0  1297515053\n",
       "17562890  179488     2243     5.0   938808639"
      ]
     },
     "execution_count": 87,
     "metadata": {},
     "output_type": "execute_result"
    }
   ],
   "source": [
    "ratings.sample(5)"
   ]
  },
  {
   "attachments": {},
   "cell_type": "markdown",
   "metadata": {},
   "source": [
    "EDA"
   ]
  },
  {
   "cell_type": "code",
   "execution_count": 88,
   "metadata": {},
   "outputs": [
    {
     "name": "stdout",
     "output_type": "stream",
     "text": [
      "<class 'pandas.core.frame.DataFrame'>\n",
      "Int64Index: 5531176 entries, 0 to 27753330\n",
      "Data columns (total 4 columns):\n",
      " #   Column     Non-Null Count    Dtype  \n",
      "---  ------     --------------    -----  \n",
      " 0   userId     5531176 non-null  int64  \n",
      " 1   movieId    5531176 non-null  int64  \n",
      " 2   rating     5531176 non-null  float64\n",
      " 3   timestamp  5531176 non-null  object \n",
      "dtypes: float64(1), int64(2), object(1)\n",
      "memory usage: 211.0+ MB\n"
     ]
    }
   ],
   "source": [
    "ratings.info(verbose=True, show_counts=True)"
   ]
  },
  {
   "attachments": {},
   "cell_type": "markdown",
   "metadata": {},
   "source": [
    "Во всё датафрейме нет никаких пропусков"
   ]
  },
  {
   "cell_type": "code",
   "execution_count": 89,
   "metadata": {},
   "outputs": [
    {
     "data": {
      "text/html": [
       "<div>\n",
       "<style scoped>\n",
       "    .dataframe tbody tr th:only-of-type {\n",
       "        vertical-align: middle;\n",
       "    }\n",
       "\n",
       "    .dataframe tbody tr th {\n",
       "        vertical-align: top;\n",
       "    }\n",
       "\n",
       "    .dataframe thead th {\n",
       "        text-align: right;\n",
       "    }\n",
       "</style>\n",
       "<table border=\"1\" class=\"dataframe\">\n",
       "  <thead>\n",
       "    <tr style=\"text-align: right;\">\n",
       "      <th></th>\n",
       "      <th>userId</th>\n",
       "      <th>movieId</th>\n",
       "      <th>rating</th>\n",
       "    </tr>\n",
       "  </thead>\n",
       "  <tbody>\n",
       "    <tr>\n",
       "      <th>count</th>\n",
       "      <td>5.531176e+06</td>\n",
       "      <td>5.531176e+06</td>\n",
       "      <td>5.531176e+06</td>\n",
       "    </tr>\n",
       "    <tr>\n",
       "      <th>mean</th>\n",
       "      <td>1.414796e+05</td>\n",
       "      <td>1.820828e+04</td>\n",
       "      <td>3.526433e+00</td>\n",
       "    </tr>\n",
       "    <tr>\n",
       "      <th>std</th>\n",
       "      <td>8.168393e+04</td>\n",
       "      <td>3.481534e+04</td>\n",
       "      <td>1.066835e+00</td>\n",
       "    </tr>\n",
       "    <tr>\n",
       "      <th>min</th>\n",
       "      <td>1.000000e+00</td>\n",
       "      <td>1.000000e+00</td>\n",
       "      <td>5.000000e-01</td>\n",
       "    </tr>\n",
       "    <tr>\n",
       "      <th>25%</th>\n",
       "      <td>7.154150e+04</td>\n",
       "      <td>1.097000e+03</td>\n",
       "      <td>3.000000e+00</td>\n",
       "    </tr>\n",
       "    <tr>\n",
       "      <th>50%</th>\n",
       "      <td>1.410610e+05</td>\n",
       "      <td>2.707000e+03</td>\n",
       "      <td>3.500000e+00</td>\n",
       "    </tr>\n",
       "    <tr>\n",
       "      <th>75%</th>\n",
       "      <td>2.116110e+05</td>\n",
       "      <td>7.082000e+03</td>\n",
       "      <td>4.000000e+00</td>\n",
       "    </tr>\n",
       "    <tr>\n",
       "      <th>max</th>\n",
       "      <td>2.832270e+05</td>\n",
       "      <td>1.938860e+05</td>\n",
       "      <td>5.000000e+00</td>\n",
       "    </tr>\n",
       "  </tbody>\n",
       "</table>\n",
       "</div>"
      ],
      "text/plain": [
       "             userId       movieId        rating\n",
       "count  5.531176e+06  5.531176e+06  5.531176e+06\n",
       "mean   1.414796e+05  1.820828e+04  3.526433e+00\n",
       "std    8.168393e+04  3.481534e+04  1.066835e+00\n",
       "min    1.000000e+00  1.000000e+00  5.000000e-01\n",
       "25%    7.154150e+04  1.097000e+03  3.000000e+00\n",
       "50%    1.410610e+05  2.707000e+03  3.500000e+00\n",
       "75%    2.116110e+05  7.082000e+03  4.000000e+00\n",
       "max    2.832270e+05  1.938860e+05  5.000000e+00"
      ]
     },
     "execution_count": 89,
     "metadata": {},
     "output_type": "execute_result"
    }
   ],
   "source": [
    "ratings.describe()"
   ]
  },
  {
   "attachments": {},
   "cell_type": "markdown",
   "metadata": {},
   "source": [
    "Средняя оценка среди всех пользователей = 3.54"
   ]
  },
  {
   "cell_type": "code",
   "execution_count": 90,
   "metadata": {},
   "outputs": [
    {
     "data": {
      "text/plain": [
       "<AxesSubplot:xlabel='rating', ylabel='count'>"
      ]
     },
     "execution_count": 90,
     "metadata": {},
     "output_type": "execute_result"
    },
    {
     "data": {
      "image/png": "[encoded data removed]",
      "text/plain": [
       "<Figure size 640x480 with 1 Axes>"
      ]
     },
     "metadata": {},
     "output_type": "display_data"
    }
   ],
   "source": [
    "sns.countplot(x='rating', data=ratings)"
   ]
  },
  {
   "attachments": {},
   "cell_type": "markdown",
   "metadata": {},
   "source": [
    "Чаще всего пользователи ставят оценки 4.0, 3.0 и 5.0"
   ]
  },
  {
   "cell_type": "code",
   "execution_count": 91,
   "metadata": {},
   "outputs": [
    {
     "data": {
      "text/html": [
       "<div>\n",
       "<style scoped>\n",
       "    .dataframe tbody tr th:only-of-type {\n",
       "        vertical-align: middle;\n",
       "    }\n",
       "\n",
       "    .dataframe tbody tr th {\n",
       "        vertical-align: top;\n",
       "    }\n",
       "\n",
       "    .dataframe thead th {\n",
       "        text-align: right;\n",
       "    }\n",
       "</style>\n",
       "<table border=\"1\" class=\"dataframe\">\n",
       "  <thead>\n",
       "    <tr style=\"text-align: right;\">\n",
       "      <th></th>\n",
       "      <th>userId</th>\n",
       "      <th>movieId</th>\n",
       "      <th>rating</th>\n",
       "      <th>timestamp</th>\n",
       "    </tr>\n",
       "  </thead>\n",
       "  <tbody>\n",
       "    <tr>\n",
       "      <th>23750344</th>\n",
       "      <td>242683</td>\n",
       "      <td>1</td>\n",
       "      <td>5.0</td>\n",
       "      <td>1160463838</td>\n",
       "    </tr>\n",
       "    <tr>\n",
       "      <th>23750345</th>\n",
       "      <td>242683</td>\n",
       "      <td>2</td>\n",
       "      <td>3.0</td>\n",
       "      <td>1160533952</td>\n",
       "    </tr>\n",
       "    <tr>\n",
       "      <th>23750346</th>\n",
       "      <td>242683</td>\n",
       "      <td>3</td>\n",
       "      <td>2.5</td>\n",
       "      <td>1163336461</td>\n",
       "    </tr>\n",
       "    <tr>\n",
       "      <th>23750347</th>\n",
       "      <td>242683</td>\n",
       "      <td>5</td>\n",
       "      <td>1.5</td>\n",
       "      <td>1163336723</td>\n",
       "    </tr>\n",
       "    <tr>\n",
       "      <th>23750348</th>\n",
       "      <td>242683</td>\n",
       "      <td>6</td>\n",
       "      <td>4.0</td>\n",
       "      <td>1160532816</td>\n",
       "    </tr>\n",
       "    <tr>\n",
       "      <th>...</th>\n",
       "      <td>...</td>\n",
       "      <td>...</td>\n",
       "      <td>...</td>\n",
       "      <td>...</td>\n",
       "    </tr>\n",
       "    <tr>\n",
       "      <th>23757854</th>\n",
       "      <td>242683</td>\n",
       "      <td>93116</td>\n",
       "      <td>3.0</td>\n",
       "      <td>1344823537</td>\n",
       "    </tr>\n",
       "    <tr>\n",
       "      <th>23757855</th>\n",
       "      <td>242683</td>\n",
       "      <td>93838</td>\n",
       "      <td>4.5</td>\n",
       "      <td>1336287562</td>\n",
       "    </tr>\n",
       "    <tr>\n",
       "      <th>23757856</th>\n",
       "      <td>242683</td>\n",
       "      <td>95588</td>\n",
       "      <td>3.0</td>\n",
       "      <td>1359355785</td>\n",
       "    </tr>\n",
       "    <tr>\n",
       "      <th>23757857</th>\n",
       "      <td>242683</td>\n",
       "      <td>99114</td>\n",
       "      <td>3.0</td>\n",
       "      <td>1423722951</td>\n",
       "    </tr>\n",
       "    <tr>\n",
       "      <th>23757858</th>\n",
       "      <td>242683</td>\n",
       "      <td>109374</td>\n",
       "      <td>4.5</td>\n",
       "      <td>1423722957</td>\n",
       "    </tr>\n",
       "  </tbody>\n",
       "</table>\n",
       "<p>7515 rows × 4 columns</p>\n",
       "</div>"
      ],
      "text/plain": [
       "          userId  movieId  rating   timestamp\n",
       "23750344  242683        1     5.0  1160463838\n",
       "23750345  242683        2     3.0  1160533952\n",
       "23750346  242683        3     2.5  1163336461\n",
       "23750347  242683        5     1.5  1163336723\n",
       "23750348  242683        6     4.0  1160532816\n",
       "...          ...      ...     ...         ...\n",
       "23757854  242683    93116     3.0  1344823537\n",
       "23757855  242683    93838     4.5  1336287562\n",
       "23757856  242683    95588     3.0  1359355785\n",
       "23757857  242683    99114     3.0  1423722951\n",
       "23757858  242683   109374     4.5  1423722957\n",
       "\n",
       "[7515 rows x 4 columns]"
      ]
     },
     "execution_count": 91,
     "metadata": {},
     "output_type": "execute_result"
    }
   ],
   "source": [
    "# Пользователь с самым большим количеством отзывов\n",
    "ratings[ratings['userId']==242683]"
   ]
  },
  {
   "cell_type": "code",
   "execution_count": 92,
   "metadata": {},
   "outputs": [
    {
     "data": {
      "text/plain": [
       "userId\n",
       "242683    7515\n",
       "111908    6645\n",
       "172357    5868\n",
       "48470     5257\n",
       "94843     5130\n",
       "          ... \n",
       "274762       1\n",
       "253550       1\n",
       "58501        1\n",
       "222651       1\n",
       "212474       1\n",
       "Name: rating, Length: 56645, dtype: int64"
      ]
     },
     "execution_count": 92,
     "metadata": {},
     "output_type": "execute_result"
    }
   ],
   "source": [
    "# Ранжирование пользователей по количеству оценок\n",
    "rank_per_user = ratings.groupby('userId')['rating'].count().sort_values(ascending=False)\n",
    "rank_per_user"
   ]
  },
  {
   "cell_type": "code",
   "execution_count": 93,
   "metadata": {},
   "outputs": [
    {
     "data": {
      "text/plain": [
       "1       1142\n",
       "2        786\n",
       "3        715\n",
       "4        606\n",
       "5       1545\n",
       "        ... \n",
       "5130       1\n",
       "5257       1\n",
       "5868       1\n",
       "6645       1\n",
       "7515       1\n",
       "Name: rating, Length: 1359, dtype: int64"
      ]
     },
     "execution_count": 93,
     "metadata": {},
     "output_type": "execute_result"
    }
   ],
   "source": [
    "# 2 столбец - количество пользователей оставивиших столько-то оценок\n",
    "# 1-й столбец - количество оценок\n",
    "ratings.groupby('userId')['rating'].count().value_counts().sort_index()"
   ]
  },
  {
   "attachments": {},
   "cell_type": "markdown",
   "metadata": {},
   "source": [
    "Много пользователей соверишвших малое количество взаимодействий с фильмами. Оставим пользователей, которые оценили хотя бы 5 фильмов."
   ]
  },
  {
   "cell_type": "code",
   "execution_count": 94,
   "metadata": {},
   "outputs": [
    {
     "data": {
      "text/plain": [
       "(5523893, 4)"
      ]
     },
     "execution_count": 94,
     "metadata": {},
     "output_type": "execute_result"
    }
   ],
   "source": [
    "active_users = list(rank_per_user.where(rank_per_user>=5).dropna().index)\n",
    "ratings = ratings[ratings['userId'].isin(active_users)]\n",
    "ratings.shape"
   ]
  },
  {
   "attachments": {},
   "cell_type": "markdown",
   "metadata": {},
   "source": [
    "Разбиение на тренировочную-тестовую выборку. В качестве тестовой выборки будет выступать последний фильм, чтобы не возникало ситуаций посмотренный пользователем, так как в случае случайного разбиения могут возникнуть \"утечки данных\". То есть может получиться, что для обучения модели мы используем данные которые появились позже тестовой выборки."
   ]
  },
  {
   "cell_type": "code",
   "execution_count": 95,
   "metadata": {},
   "outputs": [],
   "source": [
    "#Составляется набор данных по последним оценкам пользователя\n",
    "ratings['rank_last'] = ratings.groupby(['userId'])['timestamp'].rank(method='first', ascending=False)\n",
    "\n",
    "train_ratings = ratings[ratings['rank_last'] != 1].drop(['timestamp', 'rank_last'], axis=1)\n",
    "test_ratings = ratings[ratings['rank_last'] == 1].drop(['timestamp', 'rank_last'], axis=1)"
   ]
  },
  {
   "attachments": {},
   "cell_type": "markdown",
   "metadata": {},
   "source": [
    "Основано на Implicit feedback, то есть будем смотреть на то, что пользователь взаимодействовал с фильмом, в данном случае, если пользователь поставил оценку, то ставится 1, в противном случае 0"
   ]
  },
  {
   "cell_type": "code",
   "execution_count": 96,
   "metadata": {},
   "outputs": [
    {
     "data": {
      "text/html": [
       "<div>\n",
       "<style scoped>\n",
       "    .dataframe tbody tr th:only-of-type {\n",
       "        vertical-align: middle;\n",
       "    }\n",
       "\n",
       "    .dataframe tbody tr th {\n",
       "        vertical-align: top;\n",
       "    }\n",
       "\n",
       "    .dataframe thead th {\n",
       "        text-align: right;\n",
       "    }\n",
       "</style>\n",
       "<table border=\"1\" class=\"dataframe\">\n",
       "  <thead>\n",
       "    <tr style=\"text-align: right;\">\n",
       "      <th></th>\n",
       "      <th>userId</th>\n",
       "      <th>movieId</th>\n",
       "      <th>rating</th>\n",
       "    </tr>\n",
       "  </thead>\n",
       "  <tbody>\n",
       "    <tr>\n",
       "      <th>18261184</th>\n",
       "      <td>186434</td>\n",
       "      <td>67197</td>\n",
       "      <td>1</td>\n",
       "    </tr>\n",
       "    <tr>\n",
       "      <th>8101667</th>\n",
       "      <td>83400</td>\n",
       "      <td>6281</td>\n",
       "      <td>1</td>\n",
       "    </tr>\n",
       "    <tr>\n",
       "      <th>26675744</th>\n",
       "      <td>272360</td>\n",
       "      <td>105504</td>\n",
       "      <td>1</td>\n",
       "    </tr>\n",
       "    <tr>\n",
       "      <th>21338138</th>\n",
       "      <td>217979</td>\n",
       "      <td>95441</td>\n",
       "      <td>1</td>\n",
       "    </tr>\n",
       "    <tr>\n",
       "      <th>15044242</th>\n",
       "      <td>153795</td>\n",
       "      <td>3578</td>\n",
       "      <td>1</td>\n",
       "    </tr>\n",
       "  </tbody>\n",
       "</table>\n",
       "</div>"
      ],
      "text/plain": [
       "          userId  movieId  rating\n",
       "18261184  186434    67197       1\n",
       "8101667    83400     6281       1\n",
       "26675744  272360   105504       1\n",
       "21338138  217979    95441       1\n",
       "15044242  153795     3578       1"
      ]
     },
     "execution_count": 96,
     "metadata": {},
     "output_type": "execute_result"
    }
   ],
   "source": [
    "#Превращение всех оценок в 1\n",
    "train_ratings.loc[:, 'rating'] = 1\n",
    "\n",
    "train_ratings.sample(5)"
   ]
  },
  {
   "attachments": {},
   "cell_type": "markdown",
   "metadata": {},
   "source": [
    "Однако в наборе данных остались только положительные примеры (пользователь взаимодействовал с фильмом), надо добавить и отрицательные. Заодно преобразуем датасет в формат PyTorch"
   ]
  },
  {
   "cell_type": "code",
   "execution_count": 97,
   "metadata": {},
   "outputs": [],
   "source": [
    "class MovieLensTrainDataset(Dataset):\n",
    "    \"\"\"MovieLens PyTorch Dataset for Training\n",
    "    \n",
    "    Args:\n",
    "        ratings (pd.DataFrame): Датафрейм, содержащий оценки фильмов\n",
    "        all_movieIds (list): Лист всех id фильмов\n",
    "    \n",
    "    \"\"\"\n",
    "\n",
    "    def __init__(self, ratings, all_movieIds):\n",
    "        self.users, self.items, self.labels = self.get_dataset(ratings, all_movieIds)\n",
    "\n",
    "    def __len__(self):\n",
    "        return len(self.users)\n",
    "  \n",
    "    def __getitem__(self, idx):\n",
    "        return self.users[idx], self.items[idx], self.labels[idx]\n",
    "\n",
    "    def get_dataset(self, ratings, all_movieIds):\n",
    "        users, items, labels = [], [], []\n",
    "        user_item_set = set(zip(ratings['userId'], ratings['movieId']))\n",
    "\n",
    "        # Число негативных примеров на один позитивный,\n",
    "        # Таким образомсоотношение позитивных к негативным равно 1:4\n",
    "        num_negatives = 4\n",
    "        for u, i in user_item_set:\n",
    "            users.append(u)\n",
    "            items.append(i)\n",
    "            # Пометка полож. примера\n",
    "            labels.append(1)\n",
    "            for _ in range(num_negatives):\n",
    "                # Выбор случайного фильма с которым юзер не взаимодействовал\n",
    "                negative_item = np.random.choice(all_movieIds)\n",
    "                # Проверка на наличие такой пары пользователь, фильм в датасете\n",
    "                while (u, negative_item) in user_item_set:\n",
    "                    negative_item = np.random.choice(all_movieIds)\n",
    "                users.append(u)\n",
    "                items.append(negative_item)\n",
    "                # Пометка отриц. примера\n",
    "                labels.append(0)\n",
    "\n",
    "        return torch.tensor(users), torch.tensor(items), torch.tensor(labels)"
   ]
  },
  {
   "cell_type": "code",
   "execution_count": 98,
   "metadata": {},
   "outputs": [],
   "source": [
    "class NCF(pl.LightningModule):\n",
    "    \"\"\" Neural Collaborative Filtering (NCF)\n",
    "    \n",
    "        Args:\n",
    "            num_users (int): Число уникальных пользователей\n",
    "            num_items (int): Число уникальных фильмов\n",
    "            ratings (pd.DataFrame): Датафрейм с пользовательскими рейтингами фильмов для обучения\n",
    "            all_movieIds (list): Лист всех id фильмов\n",
    "    \"\"\"\n",
    "    \n",
    "    def __init__(self, num_users, num_items, ratings, all_movieIds):\n",
    "        super().__init__()\n",
    "        # Создание слоя эмбеддингов для пользователей и фильмов\n",
    "        self.user_embedding = nn.Embedding(num_embeddings=num_users, embedding_dim=8)\n",
    "        self.item_embedding = nn.Embedding(num_embeddings=num_items, embedding_dim=8)\n",
    "        # Создание двух полносвязных слоёв\n",
    "        self.fc1 = nn.Linear(in_features=16, out_features=64)\n",
    "        self.fc2 = nn.Linear(in_features=64, out_features=32)\n",
    "\n",
    "        self.output = nn.Linear(in_features=32, out_features=1)\n",
    "        self.ratings = ratings\n",
    "        self.all_movieIds = all_movieIds\n",
    "        \n",
    "    def forward(self, user_input, item_input):\n",
    "        \n",
    "        # Проход через слой эмбеддингов\n",
    "        user_embedded = self.user_embedding(user_input)\n",
    "        item_embedded = self.item_embedding(item_input)\n",
    "\n",
    "        # Объединение слоев эмбеддингов\n",
    "        vector = torch.cat([user_embedded, item_embedded], dim=-1)\n",
    "\n",
    "        # Проход через полносвязные слои\n",
    "        vector = nn.ReLU()(self.fc1(vector))\n",
    "        vector = nn.ReLU()(self.fc2(vector))\n",
    "\n",
    "        # Выходной слой с применением сигмоидальной функции\n",
    "        pred = nn.Sigmoid()(self.output(vector))\n",
    "\n",
    "        return pred\n",
    "    \n",
    "    def training_step(self, batch):\n",
    "        user_input, item_input, labels = batch\n",
    "        predicted_labels = self(user_input, item_input)\n",
    "        #В качестве функции потерь используется Binary Cross Entropy\n",
    "        loss = nn.BCELoss()(predicted_labels, labels.view(-1, 1).float())\n",
    "        return loss\n",
    "\n",
    "    def configure_optimizers(self):\n",
    "        return torch.optim.Adam(self.parameters())\n",
    "\n",
    "    def train_dataloader(self):\n",
    "        return DataLoader(MovieLensTrainDataset(self.ratings, self.all_movieIds),\n",
    "                          batch_size=1024, shuffle=False)"
   ]
  },
  {
   "cell_type": "code",
   "execution_count": 99,
   "metadata": {},
   "outputs": [],
   "source": [
    "num_users = ratings['userId'].max()+1\n",
    "num_items = ratings['movieId'].max()+1\n",
    "\n",
    "all_movieIds = ratings['movieId'].unique()\n",
    "\n",
    "model = NCF(num_users, num_items, train_ratings, all_movieIds)"
   ]
  },
  {
   "cell_type": "code",
   "execution_count": 100,
   "metadata": {},
   "outputs": [
    {
     "name": "stderr",
     "output_type": "stream",
     "text": [
      "GPU available: False, used: False\n",
      "TPU available: False, using: 0 TPU cores\n",
      "IPU available: False, using: 0 IPUs\n",
      "HPU available: False, using: 0 HPUs\n",
      "\n",
      "  | Name           | Type      | Params\n",
      "---------------------------------------------\n",
      "0 | user_embedding | Embedding | 2.3 M \n",
      "1 | item_embedding | Embedding | 1.6 M \n",
      "2 | fc1            | Linear    | 1.1 K \n",
      "3 | fc2            | Linear    | 2.1 K \n",
      "4 | output         | Linear    | 33    \n",
      "---------------------------------------------\n",
      "3.8 M     Trainable params\n",
      "0         Non-trainable params\n",
      "3.8 M     Total params\n",
      "15.280    Total estimated model params size (MB)\n",
      "c:\\Users\\user\\AppData\\Local\\Programs\\Python\\Python37\\lib\\site-packages\\pytorch_lightning\\trainer\\connectors\\data_connector.py:229: PossibleUserWarning: The dataloader, train_dataloader, does not have many workers which may be a bottleneck. Consider increasing the value of the `num_workers` argument` (try 12 which is the number of cpus on this machine) in the `DataLoader` init to improve performance.\n",
      "  category=PossibleUserWarning,\n"
     ]
    },
    {
     "data": {
      "application/vnd.jupyter.widget-view+json": {
       "model_id": "020fd874933b4c2c80849230aec408a4",
       "version_major": 2,
       "version_minor": 0
      },
      "text/plain": [
       "Training: 0it [00:00, ?it/s]"
      ]
     },
     "metadata": {},
     "output_type": "display_data"
    },
    {
     "name": "stderr",
     "output_type": "stream",
     "text": [
      "`Trainer.fit` stopped: `max_epochs=5` reached.\n"
     ]
    }
   ],
   "source": [
    "trainer = pl.Trainer(max_epochs=5, \n",
    "                     enable_progress_bar=True, \n",
    "                     enable_checkpointing=True,\n",
    "                     reload_dataloaders_every_n_epochs=1\n",
    "                     )\n",
    "\n",
    "trainer.fit(model)"
   ]
  },
  {
   "attachments": {},
   "cell_type": "markdown",
   "metadata": {},
   "source": [
    "Тетсирование работы модели. Тестовая выборка строится следующим образом - Для каждого пользователя выбираются 99  случайных фильмов, с которыми он не взаимодействовал и один фильм из тестовой выборки. Затем выборка из этих фильмов ранжируется и на рекоммендации остаются 10 фильмов. Для оценки модели используется метрика Hit Ratio @ 10, в итоге будет видно для какого процента пользователей модель порекоммендовала тестовый фильм."
   ]
  },
  {
   "cell_type": "code",
   "execution_count": 103,
   "metadata": {},
   "outputs": [
    {
     "data": {
      "application/vnd.jupyter.widget-view+json": {
       "model_id": "547f55ee27a44c8fa8dedb56818050cf",
       "version_major": 2,
       "version_minor": 0
      },
      "text/plain": [
       "  0%|          | 0/53396 [00:00<?, ?it/s]"
      ]
     },
     "metadata": {},
     "output_type": "display_data"
    },
    {
     "name": "stdout",
     "output_type": "stream",
     "text": [
      "Hit Ratio @ 10 = 0.8981946213199491\n"
     ]
    }
   ],
   "source": [
    "# Пара пользователь - тестовый фильм\n",
    "test_user_item_set = set(zip(test_ratings['userId'], test_ratings['movieId']))\n",
    "\n",
    "# Словарь со всеми взаимодействиями пользователей\n",
    "user_interacted_items = ratings.groupby('userId')['movieId'].apply(list).to_dict()\n",
    "\n",
    "hits = []\n",
    "for (u,i) in tqdm(test_user_item_set):\n",
    "    interacted_items = user_interacted_items[u]\n",
    "    not_interacted_items = set(all_movieIds) - set(interacted_items)\n",
    "    # Выбираем 99 фильмов, с которыми пользователь не взаимодействовал\n",
    "    selected_not_interacted = list(np.random.choice(list(not_interacted_items), 99))\n",
    "    test_items = selected_not_interacted + [i]\n",
    "    \n",
    "    # Ранжирование фильмов\n",
    "    predicted_labels = np.squeeze(model(torch.tensor([u]*100), \n",
    "                                        torch.tensor(test_items)).detach().numpy())\n",
    "\n",
    "    #Топ-10 рекоммендаций\n",
    "    top10_items = [test_items[i] for i in np.argsort(predicted_labels)[::-1][0:10].tolist()]\n",
    "    \n",
    "    if i in top10_items:\n",
    "        hits.append(1)\n",
    "    else:\n",
    "        hits.append(0)\n",
    "\n",
    "hit_rate = np.average(hits)\n",
    "print(f'Hit Ratio @ 10 = {hit_rate}')"
   ]
  },
  {
   "attachments": {},
   "cell_type": "markdown",
   "metadata": {},
   "source": [
    "В итоге получился Hit Ratio @ 10 = 0.8981946213199491, что означает, что для почти 90% пользователей среди 10 фильмов, рекомендованных моделью, был фильм, с которым пользователь точно контактировал."
   ]
  }
 ],
 "metadata": {
  "kernelspec": {
   "display_name": "Python 3",
   "language": "python",
   "name": "python3"
  },
  "language_info": {
   "codemirror_mode": {
    "name": "ipython",
    "version": 3
   },
   "file_extension": ".py",
   "mimetype": "text/x-python",
   "name": "python",
   "nbconvert_exporter": "python",
   "pygments_lexer": "ipython3",
   "version": "3.7.9"
  },
  "orig_nbformat": 4
 },
 "nbformat": 4,
 "nbformat_minor": 2
}
